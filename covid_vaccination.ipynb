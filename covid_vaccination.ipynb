{
 "cells": [
  {
   "cell_type": "markdown",
   "metadata": {},
   "source": [
    "Temat: \"Predykcja czasu osiągnięcia odporności zbiorowej w przypadku COVID-19 w grupie Wyszehradzkiej\"\n",
    "\n",
    "Zespół: Blanka Piekarz, Marcin Stachura"
   ]
  },
  {
   "cell_type": "code",
   "execution_count": 106,
   "metadata": {},
   "outputs": [
    {
     "name": "stderr",
     "output_type": "stream",
     "text": [
      "C:\\Users\\Cinek\\Anaconda3\\lib\\site-packages\\pandas\\core\\indexing.py:494: SettingWithCopyWarning: \n",
      "A value is trying to be set on a copy of a slice from a DataFrame.\n",
      "Try using .loc[row_indexer,col_indexer] = value instead\n",
      "\n",
      "See the caveats in the documentation: http://pandas.pydata.org/pandas-docs/stable/user_guide/indexing.html#returning-a-view-versus-a-copy\n",
      "  self.obj[item] = s\n"
     ]
    },
    {
     "data": {
      "text/html": [
       "<div>\n",
       "<style scoped>\n",
       "    .dataframe tbody tr th:only-of-type {\n",
       "        vertical-align: middle;\n",
       "    }\n",
       "\n",
       "    .dataframe tbody tr th {\n",
       "        vertical-align: top;\n",
       "    }\n",
       "\n",
       "    .dataframe thead th {\n",
       "        text-align: right;\n",
       "    }\n",
       "</style>\n",
       "<table border=\"1\" class=\"dataframe\">\n",
       "  <thead>\n",
       "    <tr style=\"text-align: right;\">\n",
       "      <th></th>\n",
       "      <th>country</th>\n",
       "      <th>date</th>\n",
       "      <th>total_vaccinations</th>\n",
       "      <th>people_vaccinated</th>\n",
       "      <th>people_fully_vaccinated</th>\n",
       "      <th>daily_vaccinations</th>\n",
       "      <th>daily_vaccinations_per_million</th>\n",
       "      <th>population</th>\n",
       "    </tr>\n",
       "  </thead>\n",
       "  <tbody>\n",
       "    <tr>\n",
       "      <td>0</td>\n",
       "      <td>0</td>\n",
       "      <td>2020-12-28</td>\n",
       "      <td>2026.0</td>\n",
       "      <td>2026.0</td>\n",
       "      <td>355256.492857</td>\n",
       "      <td>1295.0</td>\n",
       "      <td>144.0</td>\n",
       "      <td>8877067.0</td>\n",
       "    </tr>\n",
       "    <tr>\n",
       "      <td>1</td>\n",
       "      <td>0</td>\n",
       "      <td>2020-12-29</td>\n",
       "      <td>3644.0</td>\n",
       "      <td>3644.0</td>\n",
       "      <td>355256.492857</td>\n",
       "      <td>1456.0</td>\n",
       "      <td>162.0</td>\n",
       "      <td>8877067.0</td>\n",
       "    </tr>\n",
       "    <tr>\n",
       "      <td>2</td>\n",
       "      <td>0</td>\n",
       "      <td>2020-12-30</td>\n",
       "      <td>4991.0</td>\n",
       "      <td>4991.0</td>\n",
       "      <td>355256.492857</td>\n",
       "      <td>1420.0</td>\n",
       "      <td>158.0</td>\n",
       "      <td>8877067.0</td>\n",
       "    </tr>\n",
       "    <tr>\n",
       "      <td>3</td>\n",
       "      <td>0</td>\n",
       "      <td>2020-12-31</td>\n",
       "      <td>4999.0</td>\n",
       "      <td>4999.0</td>\n",
       "      <td>355256.492857</td>\n",
       "      <td>1067.0</td>\n",
       "      <td>118.0</td>\n",
       "      <td>8877067.0</td>\n",
       "    </tr>\n",
       "    <tr>\n",
       "      <td>4</td>\n",
       "      <td>0</td>\n",
       "      <td>2021-01-01</td>\n",
       "      <td>5002.0</td>\n",
       "      <td>5002.0</td>\n",
       "      <td>355256.492857</td>\n",
       "      <td>854.0</td>\n",
       "      <td>95.0</td>\n",
       "      <td>8877067.0</td>\n",
       "    </tr>\n",
       "    <tr>\n",
       "      <td>...</td>\n",
       "      <td>...</td>\n",
       "      <td>...</td>\n",
       "      <td>...</td>\n",
       "      <td>...</td>\n",
       "      <td>...</td>\n",
       "      <td>...</td>\n",
       "      <td>...</td>\n",
       "      <td>...</td>\n",
       "    </tr>\n",
       "    <tr>\n",
       "      <td>520</td>\n",
       "      <td>5</td>\n",
       "      <td>2021-04-09</td>\n",
       "      <td>1117826.0</td>\n",
       "      <td>830957.0</td>\n",
       "      <td>286869.000000</td>\n",
       "      <td>15141.0</td>\n",
       "      <td>2773.0</td>\n",
       "      <td>5454073.0</td>\n",
       "    </tr>\n",
       "    <tr>\n",
       "      <td>521</td>\n",
       "      <td>5</td>\n",
       "      <td>2021-04-10</td>\n",
       "      <td>1139514.0</td>\n",
       "      <td>851778.0</td>\n",
       "      <td>287736.000000</td>\n",
       "      <td>16604.0</td>\n",
       "      <td>3041.0</td>\n",
       "      <td>5454073.0</td>\n",
       "    </tr>\n",
       "    <tr>\n",
       "      <td>522</td>\n",
       "      <td>5</td>\n",
       "      <td>2021-04-11</td>\n",
       "      <td>1160576.0</td>\n",
       "      <td>871576.0</td>\n",
       "      <td>289000.000000</td>\n",
       "      <td>19028.0</td>\n",
       "      <td>3485.0</td>\n",
       "      <td>5454073.0</td>\n",
       "    </tr>\n",
       "    <tr>\n",
       "      <td>523</td>\n",
       "      <td>5</td>\n",
       "      <td>2021-04-12</td>\n",
       "      <td>1181053.0</td>\n",
       "      <td>882590.0</td>\n",
       "      <td>298463.000000</td>\n",
       "      <td>21900.0</td>\n",
       "      <td>4011.0</td>\n",
       "      <td>5454073.0</td>\n",
       "    </tr>\n",
       "    <tr>\n",
       "      <td>524</td>\n",
       "      <td>5</td>\n",
       "      <td>2021-04-13</td>\n",
       "      <td>1199816.0</td>\n",
       "      <td>891404.0</td>\n",
       "      <td>308412.000000</td>\n",
       "      <td>21794.0</td>\n",
       "      <td>3992.0</td>\n",
       "      <td>5454073.0</td>\n",
       "    </tr>\n",
       "  </tbody>\n",
       "</table>\n",
       "<p>525 rows × 8 columns</p>\n",
       "</div>"
      ],
      "text/plain": [
       "     country       date  total_vaccinations  people_vaccinated  \\\n",
       "0          0 2020-12-28              2026.0             2026.0   \n",
       "1          0 2020-12-29              3644.0             3644.0   \n",
       "2          0 2020-12-30              4991.0             4991.0   \n",
       "3          0 2020-12-31              4999.0             4999.0   \n",
       "4          0 2021-01-01              5002.0             5002.0   \n",
       "..       ...        ...                 ...                ...   \n",
       "520        5 2021-04-09           1117826.0           830957.0   \n",
       "521        5 2021-04-10           1139514.0           851778.0   \n",
       "522        5 2021-04-11           1160576.0           871576.0   \n",
       "523        5 2021-04-12           1181053.0           882590.0   \n",
       "524        5 2021-04-13           1199816.0           891404.0   \n",
       "\n",
       "     people_fully_vaccinated  daily_vaccinations  \\\n",
       "0              355256.492857              1295.0   \n",
       "1              355256.492857              1456.0   \n",
       "2              355256.492857              1420.0   \n",
       "3              355256.492857              1067.0   \n",
       "4              355256.492857               854.0   \n",
       "..                       ...                 ...   \n",
       "520            286869.000000             15141.0   \n",
       "521            287736.000000             16604.0   \n",
       "522            289000.000000             19028.0   \n",
       "523            298463.000000             21900.0   \n",
       "524            308412.000000             21794.0   \n",
       "\n",
       "     daily_vaccinations_per_million  population  \n",
       "0                             144.0   8877067.0  \n",
       "1                             162.0   8877067.0  \n",
       "2                             158.0   8877067.0  \n",
       "3                             118.0   8877067.0  \n",
       "4                              95.0   8877067.0  \n",
       "..                              ...         ...  \n",
       "520                          2773.0   5454073.0  \n",
       "521                          3041.0   5454073.0  \n",
       "522                          3485.0   5454073.0  \n",
       "523                          4011.0   5454073.0  \n",
       "524                          3992.0   5454073.0  \n",
       "\n",
       "[525 rows x 8 columns]"
      ]
     },
     "execution_count": 106,
     "metadata": {},
     "output_type": "execute_result"
    }
   ],
   "source": [
    "import pandas as pd\n",
    "import numpy as np\n",
    "import matplotlib.pyplot as plt\n",
    "from matplotlib.pyplot import figure\n",
    "\n",
    "df = pd.read_csv('./country_vaccinations.csv', delimiter=',')\n",
    "\n",
    "columnsToDrop = ['iso_code', 'daily_vaccinations_raw', 'source_website', 'source_name',\n",
    "                 'vaccines', 'people_fully_vaccinated_per_hundred',\n",
    "                 'people_vaccinated_per_hundred', 'total_vaccinations_per_hundred']\n",
    "\n",
    "data = df.drop(columnsToDrop, 1)\n",
    "data = data[data['daily_vaccinations'].notna()]\n",
    "\n",
    "#  ---- ADD POPULATION -----\n",
    "df_population = pd.read_csv(\"population.csv\", delimiter=',', sep=',', header=2, usecols=['Country Name', '2019'])\n",
    "df_population.loc[df_population['Country Name'] == 'Slovak Republic', 'Country Name'] = 'Slovakia'\n",
    "\n",
    "for i in range(0,len(df_population)):\n",
    "    data.loc[data['country'] == df_population.loc[i, 'Country Name'], 'population'] = df_population.loc[i, '2019']\n",
    "\n",
    "#  ---- VISEGRAD STATISTICS / FILL NaN -----\n",
    "visegrad_countries = ['Austria', 'Bulgaria', 'Czech Republic', 'Hungary', 'Poland', 'Slovakia']\n",
    "visegrad_data = data[data['country'].isin(visegrad_countries)]\n",
    "for i in range(0, len(visegrad_countries)):\n",
    "    visegrad_data.loc[visegrad_data['country'] == visegrad_countries[i], 'country'] = i\n",
    "\n",
    "visegrad_data = visegrad_data.reset_index(drop=True)\n",
    "\n",
    "import datetime as dt\n",
    "visegrad_data['date'] = pd.to_datetime(visegrad_data['date'])\n",
    "\n",
    "date_column = visegrad_data['date'].copy()\n",
    "country_column = visegrad_data['country'].copy()\n",
    "\n",
    "visegrad_data = visegrad_data.fillna(visegrad_data.mean())\n",
    "visegrad_data"
   ]
  },
  {
   "cell_type": "code",
   "execution_count": 107,
   "metadata": {},
   "outputs": [
    {
     "data": {
      "text/plain": [
       "<matplotlib.axes._subplots.AxesSubplot at 0x18f2acc98c8>"
      ]
     },
     "execution_count": 107,
     "metadata": {},
     "output_type": "execute_result"
    },
    {
     "data": {
      "image/png": "[encoded data removed]",
      "text/plain": [
       "<Figure size 432x288 with 1 Axes>"
      ]
     },
     "metadata": {
      "needs_background": "light"
     },
     "output_type": "display_data"
    }
   ],
   "source": [
    "#  ---- STANDARDIZATION ----\n",
    "visegrad_data['total_vaccinations_percentage'] = visegrad_data['total_vaccinations']/visegrad_data['population']\n",
    "visegrad_data = visegrad_data.drop(['date'], 1)\n",
    "visegrad_data = visegrad_data.drop(['country'], 1)\n",
    "\n",
    "\n",
    "visegrad_values = visegrad_data.values\n",
    "X_standard_scaler = visegrad_values - visegrad_values.mean(axis=0)\n",
    "X_standard_scaler = X_standard_scaler / visegrad_values.std(axis=0)\n",
    "\n",
    "# X_standard_scaler.hist(figsize=(30,30))\n",
    "dr = pd.DataFrame(X_standard_scaler)\n",
    "dr.boxplot()"
   ]
  },
  {
   "cell_type": "code",
   "execution_count": 108,
   "metadata": {},
   "outputs": [
    {
     "data": {
      "text/plain": [
       "<matplotlib.axes._subplots.AxesSubplot at 0x18f2ada6ec8>"
      ]
     },
     "execution_count": 108,
     "metadata": {},
     "output_type": "execute_result"
    },
    {
     "data": {
      "image/png": "[encoded data removed]",
      "text/plain": [
       "<Figure size 432x288 with 1 Axes>"
      ]
     },
     "metadata": {
      "needs_background": "light"
     },
     "output_type": "display_data"
    }
   ],
   "source": [
    "#  ---- STANDARDIZATION - USING SKLEARN ----\n",
    "from sklearn import preprocessing\n",
    "\n",
    "values = visegrad_data.values\n",
    "min_max_scaler = preprocessing.MinMaxScaler()\n",
    "data_input_scaled = min_max_scaler.fit_transform(values)\n",
    "df_new = pd.DataFrame(data_input_scaled)\n",
    "\n",
    "df_new.boxplot()"
   ]
  },
  {
   "cell_type": "code",
   "execution_count": 109,
   "metadata": {},
   "outputs": [
    {
     "data": {
      "text/html": [
       "<div>\n",
       "<style scoped>\n",
       "    .dataframe tbody tr th:only-of-type {\n",
       "        vertical-align: middle;\n",
       "    }\n",
       "\n",
       "    .dataframe tbody tr th {\n",
       "        vertical-align: top;\n",
       "    }\n",
       "\n",
       "    .dataframe thead th {\n",
       "        text-align: right;\n",
       "    }\n",
       "</style>\n",
       "<table border=\"1\" class=\"dataframe\">\n",
       "  <thead>\n",
       "    <tr style=\"text-align: right;\">\n",
       "      <th></th>\n",
       "      <th>0</th>\n",
       "      <th>1</th>\n",
       "      <th>2</th>\n",
       "      <th>3</th>\n",
       "      <th>4</th>\n",
       "      <th>5</th>\n",
       "      <th>6</th>\n",
       "    </tr>\n",
       "  </thead>\n",
       "  <tbody>\n",
       "    <tr>\n",
       "      <td>count</td>\n",
       "      <td>525.000000</td>\n",
       "      <td>525.000000</td>\n",
       "      <td>525.000000</td>\n",
       "      <td>525.000000</td>\n",
       "      <td>525.000000</td>\n",
       "      <td>525.000000</td>\n",
       "      <td>525.000000</td>\n",
       "    </tr>\n",
       "    <tr>\n",
       "      <td>mean</td>\n",
       "      <td>0.131696</td>\n",
       "      <td>0.132626</td>\n",
       "      <td>0.166216</td>\n",
       "      <td>0.179627</td>\n",
       "      <td>0.168463</td>\n",
       "      <td>0.259859</td>\n",
       "      <td>0.175530</td>\n",
       "    </tr>\n",
       "    <tr>\n",
       "      <td>std</td>\n",
       "      <td>0.182901</td>\n",
       "      <td>0.169769</td>\n",
       "      <td>0.210591</td>\n",
       "      <td>0.206015</td>\n",
       "      <td>0.168276</td>\n",
       "      <td>0.375416</td>\n",
       "      <td>0.184220</td>\n",
       "    </tr>\n",
       "    <tr>\n",
       "      <td>min</td>\n",
       "      <td>0.000000</td>\n",
       "      <td>0.000000</td>\n",
       "      <td>0.000000</td>\n",
       "      <td>0.000000</td>\n",
       "      <td>0.000000</td>\n",
       "      <td>0.000000</td>\n",
       "      <td>0.000000</td>\n",
       "    </tr>\n",
       "    <tr>\n",
       "      <td>25%</td>\n",
       "      <td>0.020068</td>\n",
       "      <td>0.031606</td>\n",
       "      <td>0.032506</td>\n",
       "      <td>0.041091</td>\n",
       "      <td>0.065579</td>\n",
       "      <td>0.046797</td>\n",
       "      <td>0.036585</td>\n",
       "    </tr>\n",
       "    <tr>\n",
       "      <td>50%</td>\n",
       "      <td>0.062077</td>\n",
       "      <td>0.068769</td>\n",
       "      <td>0.118544</td>\n",
       "      <td>0.085711</td>\n",
       "      <td>0.128334</td>\n",
       "      <td>0.105268</td>\n",
       "      <td>0.114426</td>\n",
       "    </tr>\n",
       "    <tr>\n",
       "      <td>75%</td>\n",
       "      <td>0.143324</td>\n",
       "      <td>0.149363</td>\n",
       "      <td>0.166216</td>\n",
       "      <td>0.232318</td>\n",
       "      <td>0.213759</td>\n",
       "      <td>0.132728</td>\n",
       "      <td>0.265359</td>\n",
       "    </tr>\n",
       "    <tr>\n",
       "      <td>max</td>\n",
       "      <td>1.000000</td>\n",
       "      <td>1.000000</td>\n",
       "      <td>1.000000</td>\n",
       "      <td>1.000000</td>\n",
       "      <td>1.000000</td>\n",
       "      <td>1.000000</td>\n",
       "      <td>1.000000</td>\n",
       "    </tr>\n",
       "  </tbody>\n",
       "</table>\n",
       "</div>"
      ],
      "text/plain": [
       "                0           1           2           3           4           5  \\\n",
       "count  525.000000  525.000000  525.000000  525.000000  525.000000  525.000000   \n",
       "mean     0.131696    0.132626    0.166216    0.179627    0.168463    0.259859   \n",
       "std      0.182901    0.169769    0.210591    0.206015    0.168276    0.375416   \n",
       "min      0.000000    0.000000    0.000000    0.000000    0.000000    0.000000   \n",
       "25%      0.020068    0.031606    0.032506    0.041091    0.065579    0.046797   \n",
       "50%      0.062077    0.068769    0.118544    0.085711    0.128334    0.105268   \n",
       "75%      0.143324    0.149363    0.166216    0.232318    0.213759    0.132728   \n",
       "max      1.000000    1.000000    1.000000    1.000000    1.000000    1.000000   \n",
       "\n",
       "                6  \n",
       "count  525.000000  \n",
       "mean     0.175530  \n",
       "std      0.184220  \n",
       "min      0.000000  \n",
       "25%      0.036585  \n",
       "50%      0.114426  \n",
       "75%      0.265359  \n",
       "max      1.000000  "
      ]
     },
     "execution_count": 109,
     "metadata": {},
     "output_type": "execute_result"
    }
   ],
   "source": [
    "df_new.describe()"
   ]
  },
  {
   "cell_type": "code",
   "execution_count": 110,
   "metadata": {},
   "outputs": [],
   "source": [
    "from sklearn.model_selection import train_test_split\n",
    "\n",
    "X = dr.values[:,2:]\n",
    "y = dr.values[:,-1:]\n",
    "\n",
    "X_train, X_test, y_train, y_test = train_test_split(X,y, test_size=0.2, random_state=42, shuffle=False)\n",
    "x_ax = range(len(y_test))"
   ]
  },
  {
   "cell_type": "code",
   "execution_count": 111,
   "metadata": {},
   "outputs": [],
   "source": [
    "from xgboost import XGBRegressor\n",
    "\n",
    "xgb_clf = XGBRegressor(objective=\"reg:squarederror\", n_estimators=100)\n",
    "xgb_clf.fit(X_train, y_train)\n",
    "y_pred_xgb = xgb_clf.predict(X_test)"
   ]
  },
  {
   "cell_type": "code",
   "execution_count": 112,
   "metadata": {
    "scrolled": true
   },
   "outputs": [
    {
     "data": {
      "image/png": "[encoded data removed]",
      "text/plain": [
       "<Figure size 432x288 with 1 Axes>"
      ]
     },
     "metadata": {
      "needs_background": "light"
     },
     "output_type": "display_data"
    }
   ],
   "source": [
    "plt.scatter(x_ax, y_test, s=5, label=\"original\")\n",
    "plt.scatter(x_ax, y_pred_xgb, s=5, label=\"predicted\")\n",
    "plt.title(\"XGBRegressor - Visegrad group vaccination test and predicted data\")\n",
    "plt.legend()\n",
    "plt.show()"
   ]
  },
  {
   "cell_type": "code",
   "execution_count": 113,
   "metadata": {},
   "outputs": [
    {
     "name": "stderr",
     "output_type": "stream",
     "text": [
      "C:\\Users\\Cinek\\Anaconda3\\lib\\site-packages\\sklearn\\utils\\validation.py:72: DataConversionWarning: A column-vector y was passed when a 1d array was expected. Please change the shape of y to (n_samples, ), for example using ravel().\n",
      "  return f(**kwargs)\n"
     ]
    }
   ],
   "source": [
    "from sklearn.svm import SVR\n",
    "\n",
    "svr_clf = SVR()\n",
    "svr_clf.fit(X_train, y_train)\n",
    "y_pred_svr = svr_clf.predict(X_test)"
   ]
  },
  {
   "cell_type": "code",
   "execution_count": 114,
   "metadata": {
    "scrolled": true
   },
   "outputs": [
    {
     "data": {
      "image/png": "[encoded data removed]",
      "text/plain": [
       "<Figure size 432x288 with 1 Axes>"
      ]
     },
     "metadata": {
      "needs_background": "light"
     },
     "output_type": "display_data"
    }
   ],
   "source": [
    "plt.scatter(x_ax, y_test, s=5, label=\"original\")\n",
    "plt.scatter(x_ax, y_pred_svr, s=5, label=\"predicted\")\n",
    "plt.title(\"SVR - Visegrad group vaccination test and predicted data\")\n",
    "plt.legend()\n",
    "plt.show()"
   ]
  },
  {
   "cell_type": "code",
   "execution_count": 115,
   "metadata": {},
   "outputs": [
    {
     "name": "stdout",
     "output_type": "stream",
     "text": [
      "XGBRegressor score: 0.9996979302775229\n",
      "SVR score: 0.9901237880026101\n"
     ]
    }
   ],
   "source": [
    "def get_r2_score(x, y):\n",
    "    zx = (x-np.mean(x))/np.std(x, ddof=1)\n",
    "    zy = (y-np.mean(y))/np.std(y, ddof=1)\n",
    "    r = np.sum(zx*zy)/(len(x)-1)\n",
    "    return r**2\n",
    "\n",
    "y_prediction_xgb = np.reshape(y_pred_xgb, (y_pred_xgb.shape[0], -1))\n",
    "y_prediction_svr = np.reshape(y_pred_svr, (y_pred_svr.shape[0], -1))\n",
    "\n",
    "r2_score_xgb = get_r2_score(y_test, y_prediction_xgb)\n",
    "r2_score_svr = get_r2_score(y_test, y_prediction_svr)\n",
    "\n",
    "print(f'XGBRegressor score: {r2_score_xgb}')\n",
    "print(f'SVR score: {r2_score_svr}')\n"
   ]
  },
  {
   "cell_type": "code",
   "execution_count": null,
   "metadata": {},
   "outputs": [],
   "source": []
  }
 ],
 "metadata": {
  "kernelspec": {
   "display_name": "Python 3",
   "language": "python",
   "name": "python3"
  },
  "language_info": {
   "codemirror_mode": {
    "name": "ipython",
    "version": 3
   },
   "file_extension": ".py",
   "mimetype": "text/x-python",
   "name": "python",
   "nbconvert_exporter": "python",
   "pygments_lexer": "ipython3",
   "version": "3.7.4"
  }
 },
 "nbformat": 4,
 "nbformat_minor": 4
}
