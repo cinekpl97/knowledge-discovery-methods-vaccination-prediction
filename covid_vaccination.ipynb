{
 "cells": [
  {
   "cell_type": "markdown",
   "metadata": {},
   "source": [
    "Temat: \"Predykcja czasu osiągnięcia odporności zbiorowej w przypadku COVID-19 w grupie Wyszehradzkiej\"\n",
    "\n",
    "Zespół: Blanka Piekarz, Marcin Stachura"
   ]
  },
  {
   "cell_type": "code",
   "execution_count": 255,
   "metadata": {},
   "outputs": [
    {
     "name": "stderr",
     "output_type": "stream",
     "text": [
      "C:\\Users\\Cinek\\Anaconda3\\lib\\site-packages\\pandas\\core\\indexing.py:494: SettingWithCopyWarning: \n",
      "A value is trying to be set on a copy of a slice from a DataFrame.\n",
      "Try using .loc[row_indexer,col_indexer] = value instead\n",
      "\n",
      "See the caveats in the documentation: http://pandas.pydata.org/pandas-docs/stable/user_guide/indexing.html#returning-a-view-versus-a-copy\n",
      "  self.obj[item] = s\n"
     ]
    },
    {
     "data": {
      "text/html": [
       "<div>\n",
       "<style scoped>\n",
       "    .dataframe tbody tr th:only-of-type {\n",
       "        vertical-align: middle;\n",
       "    }\n",
       "\n",
       "    .dataframe tbody tr th {\n",
       "        vertical-align: top;\n",
       "    }\n",
       "\n",
       "    .dataframe thead th {\n",
       "        text-align: right;\n",
       "    }\n",
       "</style>\n",
       "<table border=\"1\" class=\"dataframe\">\n",
       "  <thead>\n",
       "    <tr style=\"text-align: right;\">\n",
       "      <th></th>\n",
       "      <th>country</th>\n",
       "      <th>date</th>\n",
       "      <th>total_vaccinations</th>\n",
       "      <th>people_vaccinated</th>\n",
       "      <th>people_fully_vaccinated</th>\n",
       "      <th>daily_vaccinations</th>\n",
       "      <th>daily_vaccinations_per_million</th>\n",
       "      <th>population</th>\n",
       "    </tr>\n",
       "  </thead>\n",
       "  <tbody>\n",
       "    <tr>\n",
       "      <td>0</td>\n",
       "      <td>2</td>\n",
       "      <td>2020-12-29</td>\n",
       "      <td>2.461000e+03</td>\n",
       "      <td>919149.748</td>\n",
       "      <td>434856.429224</td>\n",
       "      <td>1367.0</td>\n",
       "      <td>142.0</td>\n",
       "      <td>9769949.0</td>\n",
       "    </tr>\n",
       "    <tr>\n",
       "      <td>1</td>\n",
       "      <td>2</td>\n",
       "      <td>2020-12-30</td>\n",
       "      <td>3.789000e+03</td>\n",
       "      <td>919149.748</td>\n",
       "      <td>434856.429224</td>\n",
       "      <td>1348.0</td>\n",
       "      <td>140.0</td>\n",
       "      <td>9769949.0</td>\n",
       "    </tr>\n",
       "    <tr>\n",
       "      <td>2</td>\n",
       "      <td>2</td>\n",
       "      <td>2020-12-31</td>\n",
       "      <td>5.110000e+03</td>\n",
       "      <td>919149.748</td>\n",
       "      <td>434856.429224</td>\n",
       "      <td>1339.0</td>\n",
       "      <td>139.0</td>\n",
       "      <td>9769949.0</td>\n",
       "    </tr>\n",
       "    <tr>\n",
       "      <td>3</td>\n",
       "      <td>2</td>\n",
       "      <td>2021-01-01</td>\n",
       "      <td>1.225371e+06</td>\n",
       "      <td>919149.748</td>\n",
       "      <td>434856.429224</td>\n",
       "      <td>1578.0</td>\n",
       "      <td>163.0</td>\n",
       "      <td>9769949.0</td>\n",
       "    </tr>\n",
       "    <tr>\n",
       "      <td>4</td>\n",
       "      <td>2</td>\n",
       "      <td>2021-01-02</td>\n",
       "      <td>1.225371e+06</td>\n",
       "      <td>919149.748</td>\n",
       "      <td>434856.429224</td>\n",
       "      <td>1722.0</td>\n",
       "      <td>178.0</td>\n",
       "      <td>9769949.0</td>\n",
       "    </tr>\n",
       "    <tr>\n",
       "      <td>...</td>\n",
       "      <td>...</td>\n",
       "      <td>...</td>\n",
       "      <td>...</td>\n",
       "      <td>...</td>\n",
       "      <td>...</td>\n",
       "      <td>...</td>\n",
       "      <td>...</td>\n",
       "      <td>...</td>\n",
       "    </tr>\n",
       "    <tr>\n",
       "      <td>280</td>\n",
       "      <td>3</td>\n",
       "      <td>2021-03-31</td>\n",
       "      <td>9.814890e+05</td>\n",
       "      <td>719418.000</td>\n",
       "      <td>262071.000000</td>\n",
       "      <td>17141.0</td>\n",
       "      <td>3140.0</td>\n",
       "      <td>5454073.0</td>\n",
       "    </tr>\n",
       "    <tr>\n",
       "      <td>281</td>\n",
       "      <td>3</td>\n",
       "      <td>2021-04-01</td>\n",
       "      <td>1.006283e+06</td>\n",
       "      <td>742643.000</td>\n",
       "      <td>263640.000000</td>\n",
       "      <td>18052.0</td>\n",
       "      <td>3306.0</td>\n",
       "      <td>5454073.0</td>\n",
       "    </tr>\n",
       "    <tr>\n",
       "      <td>282</td>\n",
       "      <td>3</td>\n",
       "      <td>2021-04-02</td>\n",
       "      <td>1.011040e+06</td>\n",
       "      <td>747298.000</td>\n",
       "      <td>263742.000000</td>\n",
       "      <td>16083.0</td>\n",
       "      <td>2946.0</td>\n",
       "      <td>5454073.0</td>\n",
       "    </tr>\n",
       "    <tr>\n",
       "      <td>283</td>\n",
       "      <td>3</td>\n",
       "      <td>2021-04-03</td>\n",
       "      <td>1.017903e+06</td>\n",
       "      <td>753997.000</td>\n",
       "      <td>263906.000000</td>\n",
       "      <td>14994.0</td>\n",
       "      <td>2746.0</td>\n",
       "      <td>5454073.0</td>\n",
       "    </tr>\n",
       "    <tr>\n",
       "      <td>284</td>\n",
       "      <td>3</td>\n",
       "      <td>2021-04-04</td>\n",
       "      <td>1.019523e+06</td>\n",
       "      <td>755617.000</td>\n",
       "      <td>263906.000000</td>\n",
       "      <td>13918.0</td>\n",
       "      <td>2549.0</td>\n",
       "      <td>5454073.0</td>\n",
       "    </tr>\n",
       "  </tbody>\n",
       "</table>\n",
       "<p>285 rows × 8 columns</p>\n",
       "</div>"
      ],
      "text/plain": [
       "     country       date  total_vaccinations  people_vaccinated  \\\n",
       "0          2 2020-12-29        2.461000e+03         919149.748   \n",
       "1          2 2020-12-30        3.789000e+03         919149.748   \n",
       "2          2 2020-12-31        5.110000e+03         919149.748   \n",
       "3          2 2021-01-01        1.225371e+06         919149.748   \n",
       "4          2 2021-01-02        1.225371e+06         919149.748   \n",
       "..       ...        ...                 ...                ...   \n",
       "280        3 2021-03-31        9.814890e+05         719418.000   \n",
       "281        3 2021-04-01        1.006283e+06         742643.000   \n",
       "282        3 2021-04-02        1.011040e+06         747298.000   \n",
       "283        3 2021-04-03        1.017903e+06         753997.000   \n",
       "284        3 2021-04-04        1.019523e+06         755617.000   \n",
       "\n",
       "     people_fully_vaccinated  daily_vaccinations  \\\n",
       "0              434856.429224              1367.0   \n",
       "1              434856.429224              1348.0   \n",
       "2              434856.429224              1339.0   \n",
       "3              434856.429224              1578.0   \n",
       "4              434856.429224              1722.0   \n",
       "..                       ...                 ...   \n",
       "280            262071.000000             17141.0   \n",
       "281            263640.000000             18052.0   \n",
       "282            263742.000000             16083.0   \n",
       "283            263906.000000             14994.0   \n",
       "284            263906.000000             13918.0   \n",
       "\n",
       "     daily_vaccinations_per_million  population  \n",
       "0                             142.0   9769949.0  \n",
       "1                             140.0   9769949.0  \n",
       "2                             139.0   9769949.0  \n",
       "3                             163.0   9769949.0  \n",
       "4                             178.0   9769949.0  \n",
       "..                              ...         ...  \n",
       "280                          3140.0   5454073.0  \n",
       "281                          3306.0   5454073.0  \n",
       "282                          2946.0   5454073.0  \n",
       "283                          2746.0   5454073.0  \n",
       "284                          2549.0   5454073.0  \n",
       "\n",
       "[285 rows x 8 columns]"
      ]
     },
     "execution_count": 255,
     "metadata": {},
     "output_type": "execute_result"
    }
   ],
   "source": [
    "import pandas as pd\n",
    "import numpy as np\n",
    "import matplotlib.pyplot as plt\n",
    "from matplotlib.pyplot import figure\n",
    "\n",
    "df = pd.read_csv('./country_vaccinations.csv', delimiter=',')\n",
    "\n",
    "columnsToDrop = ['iso_code', 'daily_vaccinations_raw', 'source_website', 'source_name',\n",
    "                 'vaccines', 'people_fully_vaccinated_per_hundred',\n",
    "                 'people_vaccinated_per_hundred', 'total_vaccinations_per_hundred']\n",
    "\n",
    "data = df.drop(columnsToDrop, 1)\n",
    "data = data[data['daily_vaccinations'].notna()]\n",
    "\n",
    "#  ---- ADD POPULATION -----\n",
    "df_population = pd.read_csv(\"population.csv\", delimiter=',', sep=',', header=2, usecols=['Country Name', '2019'])\n",
    "df_population.loc[df_population['Country Name'] == 'Slovak Republic', 'Country Name'] = 'Slovakia'\n",
    "\n",
    "for i in range(0,len(df_population)):\n",
    "    data.loc[data['country'] == df_population.loc[i, 'Country Name'], 'population'] = df_population.loc[i, '2019']\n",
    "\n",
    "#  ---- VISEGRAD STATISTICS / FILL NaN -----\n",
    "visegrad_countries = ['Poland', 'Czech Republic', 'Hungary', 'Slovakia']\n",
    "visegrad_data = data[data['country'].isin(visegrad_countries)]\n",
    "for i in range(0, len(visegrad_countries)):\n",
    "    visegrad_data.loc[visegrad_data['country'] == visegrad_countries[i], 'country'] = i\n",
    "\n",
    "visegrad_data = visegrad_data.reset_index(drop=True)\n",
    "\n",
    "import datetime as dt\n",
    "visegrad_data['date'] = pd.to_datetime(visegrad_data['date'])\n",
    "# visegrad_data['date'] = visegrad_data['date'].map(dt.datetime.toordinal)\n",
    "\n",
    "date_column = visegrad_data['date'].copy()\n",
    "country_column = visegrad_data['country'].copy()\n",
    "\n",
    "visegrad_data = visegrad_data.fillna(visegrad_data.mean())\n",
    "visegrad_data"
   ]
  },
  {
   "cell_type": "code",
   "execution_count": 256,
   "metadata": {},
   "outputs": [
    {
     "data": {
      "text/plain": [
       "<matplotlib.axes._subplots.AxesSubplot at 0x23f519296c8>"
      ]
     },
     "execution_count": 256,
     "metadata": {},
     "output_type": "execute_result"
    },
    {
     "data": {
      "image/png": "[encoded data removed]",
      "text/plain": [
       "<Figure size 432x288 with 1 Axes>"
      ]
     },
     "metadata": {
      "needs_background": "light"
     },
     "output_type": "display_data"
    }
   ],
   "source": [
    "#  ---- STANDARDIZATION ----\n",
    "visegrad_data['total_vaccinations_percentage'] = visegrad_data['total_vaccinations']/visegrad_data['population']\n",
    "visegrad_data = visegrad_data.drop(['date'], 1)\n",
    "visegrad_data = visegrad_data.drop(['country'], 1)\n",
    "\n",
    "\n",
    "visegrad_values = visegrad_data.values\n",
    "X_standard_scaler = visegrad_values - visegrad_values.mean(axis=0)\n",
    "X_standard_scaler = X_standard_scaler / visegrad_values.std(axis=0)\n",
    "\n",
    "# X_standard_scaler.hist(figsize=(30,30))\n",
    "dr = pd.DataFrame(X_standard_scaler)\n",
    "dr.boxplot()"
   ]
  },
  {
   "cell_type": "code",
   "execution_count": 257,
   "metadata": {},
   "outputs": [
    {
     "data": {
      "text/plain": [
       "<matplotlib.axes._subplots.AxesSubplot at 0x23f51a3e2c8>"
      ]
     },
     "execution_count": 257,
     "metadata": {},
     "output_type": "execute_result"
    },
    {
     "data": {
      "image/png": "[encoded data removed]",
      "text/plain": [
       "<Figure size 432x288 with 1 Axes>"
      ]
     },
     "metadata": {
      "needs_background": "light"
     },
     "output_type": "display_data"
    }
   ],
   "source": [
    "#  ---- STANDARDIZATION - USING SKLEARN ----\n",
    "from sklearn import preprocessing\n",
    "\n",
    "values = visegrad_data.values\n",
    "min_max_scaler = preprocessing.MinMaxScaler()\n",
    "data_input_scaled = min_max_scaler.fit_transform(values)\n",
    "df_new = pd.DataFrame(data_input_scaled)\n",
    "\n",
    "df_new.boxplot()"
   ]
  },
  {
   "cell_type": "code",
   "execution_count": 258,
   "metadata": {},
   "outputs": [
    {
     "data": {
      "text/html": [
       "<div>\n",
       "<style scoped>\n",
       "    .dataframe tbody tr th:only-of-type {\n",
       "        vertical-align: middle;\n",
       "    }\n",
       "\n",
       "    .dataframe tbody tr th {\n",
       "        vertical-align: top;\n",
       "    }\n",
       "\n",
       "    .dataframe thead th {\n",
       "        text-align: right;\n",
       "    }\n",
       "</style>\n",
       "<table border=\"1\" class=\"dataframe\">\n",
       "  <thead>\n",
       "    <tr style=\"text-align: right;\">\n",
       "      <th></th>\n",
       "      <th>0</th>\n",
       "      <th>1</th>\n",
       "      <th>2</th>\n",
       "      <th>3</th>\n",
       "      <th>4</th>\n",
       "      <th>5</th>\n",
       "      <th>6</th>\n",
       "    </tr>\n",
       "  </thead>\n",
       "  <tbody>\n",
       "    <tr>\n",
       "      <td>count</td>\n",
       "      <td>285.000000</td>\n",
       "      <td>285.000000</td>\n",
       "      <td>285.000000</td>\n",
       "      <td>285.000000</td>\n",
       "      <td>285.000000</td>\n",
       "      <td>285.000000</td>\n",
       "      <td>285.000000</td>\n",
       "    </tr>\n",
       "    <tr>\n",
       "      <td>mean</td>\n",
       "      <td>0.183968</td>\n",
       "      <td>0.200370</td>\n",
       "      <td>0.209516</td>\n",
       "      <td>0.283111</td>\n",
       "      <td>0.232849</td>\n",
       "      <td>0.385991</td>\n",
       "      <td>0.226769</td>\n",
       "    </tr>\n",
       "    <tr>\n",
       "      <td>std</td>\n",
       "      <td>0.220145</td>\n",
       "      <td>0.207000</td>\n",
       "      <td>0.230580</td>\n",
       "      <td>0.259270</td>\n",
       "      <td>0.196708</td>\n",
       "      <td>0.445101</td>\n",
       "      <td>0.211297</td>\n",
       "    </tr>\n",
       "    <tr>\n",
       "      <td>min</td>\n",
       "      <td>0.000000</td>\n",
       "      <td>0.000000</td>\n",
       "      <td>0.000000</td>\n",
       "      <td>0.000000</td>\n",
       "      <td>0.000000</td>\n",
       "      <td>0.000000</td>\n",
       "      <td>0.000000</td>\n",
       "    </tr>\n",
       "    <tr>\n",
       "      <td>25%</td>\n",
       "      <td>0.032554</td>\n",
       "      <td>0.054363</td>\n",
       "      <td>0.057926</td>\n",
       "      <td>0.074668</td>\n",
       "      <td>0.096695</td>\n",
       "      <td>0.000000</td>\n",
       "      <td>0.055672</td>\n",
       "    </tr>\n",
       "    <tr>\n",
       "      <td>50%</td>\n",
       "      <td>0.099481</td>\n",
       "      <td>0.136441</td>\n",
       "      <td>0.148280</td>\n",
       "      <td>0.148994</td>\n",
       "      <td>0.186353</td>\n",
       "      <td>0.132728</td>\n",
       "      <td>0.153972</td>\n",
       "    </tr>\n",
       "    <tr>\n",
       "      <td>75%</td>\n",
       "      <td>0.235216</td>\n",
       "      <td>0.255347</td>\n",
       "      <td>0.209516</td>\n",
       "      <td>0.499670</td>\n",
       "      <td>0.287842</td>\n",
       "      <td>1.000000</td>\n",
       "      <td>0.363269</td>\n",
       "    </tr>\n",
       "    <tr>\n",
       "      <td>max</td>\n",
       "      <td>1.000000</td>\n",
       "      <td>1.000000</td>\n",
       "      <td>1.000000</td>\n",
       "      <td>1.000000</td>\n",
       "      <td>1.000000</td>\n",
       "      <td>1.000000</td>\n",
       "      <td>1.000000</td>\n",
       "    </tr>\n",
       "  </tbody>\n",
       "</table>\n",
       "</div>"
      ],
      "text/plain": [
       "                0           1           2           3           4           5  \\\n",
       "count  285.000000  285.000000  285.000000  285.000000  285.000000  285.000000   \n",
       "mean     0.183968    0.200370    0.209516    0.283111    0.232849    0.385991   \n",
       "std      0.220145    0.207000    0.230580    0.259270    0.196708    0.445101   \n",
       "min      0.000000    0.000000    0.000000    0.000000    0.000000    0.000000   \n",
       "25%      0.032554    0.054363    0.057926    0.074668    0.096695    0.000000   \n",
       "50%      0.099481    0.136441    0.148280    0.148994    0.186353    0.132728   \n",
       "75%      0.235216    0.255347    0.209516    0.499670    0.287842    1.000000   \n",
       "max      1.000000    1.000000    1.000000    1.000000    1.000000    1.000000   \n",
       "\n",
       "                6  \n",
       "count  285.000000  \n",
       "mean     0.226769  \n",
       "std      0.211297  \n",
       "min      0.000000  \n",
       "25%      0.055672  \n",
       "50%      0.153972  \n",
       "75%      0.363269  \n",
       "max      1.000000  "
      ]
     },
     "execution_count": 258,
     "metadata": {},
     "output_type": "execute_result"
    }
   ],
   "source": [
    "df_new.describe()"
   ]
  },
  {
   "cell_type": "code",
   "execution_count": 259,
   "metadata": {},
   "outputs": [],
   "source": [
    "from sklearn.model_selection import train_test_split\n",
    "\n",
    "X = dr.values[:,2:]\n",
    "y = dr.values[:,-1:] #or: y = dr.values[:,:2]  ?\n",
    "\n",
    "X_train, X_test, y_train, y_test = train_test_split(X,y, test_size=0.2, random_state=42, shuffle=False)"
   ]
  },
  {
   "cell_type": "code",
   "execution_count": 260,
   "metadata": {},
   "outputs": [
    {
     "name": "stdout",
     "output_type": "stream",
     "text": [
      "0.9982644507211733\n",
      "0.0006716595065881931\n"
     ]
    }
   ],
   "source": [
    "from sklearn.metrics import mean_squared_error\n",
    "from xgboost import XGBRegressor\n",
    "model = XGBRegressor(objective=\"reg:squarederror\", n_estimators=100)\n",
    "model.fit(X_train, y_train)\n",
    "score = model.score(X_test, y_test)\n",
    "print(score)\n",
    "y_pred = model.predict(X_test)\n",
    "mse = mean_squared_error(y_test, y_pred)\n",
    "print(mse)"
   ]
  },
  {
   "cell_type": "code",
   "execution_count": 261,
   "metadata": {
    "scrolled": true
   },
   "outputs": [
    {
     "data": {
      "image/png": "[encoded data removed]",
      "text/plain": [
       "<Figure size 432x288 with 1 Axes>"
      ]
     },
     "metadata": {
      "needs_background": "light"
     },
     "output_type": "display_data"
    }
   ],
   "source": [
    "x_ax = range(len(y_test))\n",
    "plt.plot(x_ax, y_test, label=\"original\")\n",
    "plt.plot(x_ax, y_pred, label=\"predicted\")\n",
    "plt.title(\"Visegrad group vaccination test and predicted data\")\n",
    "plt.legend()\n",
    "plt.show()"
   ]
  },
  {
   "cell_type": "code",
   "execution_count": 262,
   "metadata": {},
   "outputs": [
    {
     "name": "stdout",
     "output_type": "stream",
     "text": [
      "0.9858256931346177\n",
      "0.005485472565704683\n"
     ]
    },
    {
     "name": "stderr",
     "output_type": "stream",
     "text": [
      "C:\\Users\\Cinek\\Anaconda3\\lib\\site-packages\\sklearn\\utils\\validation.py:72: DataConversionWarning: A column-vector y was passed when a 1d array was expected. Please change the shape of y to (n_samples, ), for example using ravel().\n",
      "  return f(**kwargs)\n"
     ]
    }
   ],
   "source": [
    "from sklearn.svm import SVR\n",
    "svr = SVR()\n",
    "svr.fit(X_train, y_train)\n",
    "print(svr.score(X_test, y_test))\n",
    "y_pred_svr = svr.predict(X_test)\n",
    "x_ax = range(len(y_test))\n",
    "mse = mean_squared_error(y_test, y_pred_svr)\n",
    "print(mse)"
   ]
  },
  {
   "cell_type": "code",
   "execution_count": 263,
   "metadata": {
    "scrolled": true
   },
   "outputs": [
    {
     "data": {
      "image/png": "[encoded data removed]",
      "text/plain": [
       "<Figure size 432x288 with 1 Axes>"
      ]
     },
     "metadata": {
      "needs_background": "light"
     },
     "output_type": "display_data"
    }
   ],
   "source": [
    "\n",
    "plt.plot(x_ax, y_test, label=\"original\")\n",
    "plt.plot(x_ax, y_pred_svr, label=\"predicted\")\n",
    "plt.title(\"Visegrad group vaccination test and predicted data\")\n",
    "plt.legend()\n",
    "plt.show()"
   ]
  },
  {
   "cell_type": "code",
   "execution_count": 264,
   "metadata": {},
   "outputs": [
    {
     "name": "stdout",
     "output_type": "stream",
     "text": [
      "0.42105263157894735\n",
      "0.9983065841539123\n",
      "0.42105263157894735\n",
      "0.9934327406100409\n"
     ]
    }
   ],
   "source": [
    "import math\n",
    "def accuracy(actual, predicted):\n",
    "    \"\"\"accuracy = (tp + tn) / ts\n",
    "\n",
    "    , where:\n",
    "\n",
    "        ts - Total Samples\n",
    "        tp - True Positives\n",
    "        tn - True Negatives\n",
    "    \"\"\"\n",
    "    return (actual == predicted).sum() / float(len(actual))\n",
    "\n",
    "def get_r2(x, y):\n",
    "    zx = (x-np.mean(x))/np.std(x, ddof=1)\n",
    "    zy = (y-np.mean(y))/np.std(y, ddof=1)\n",
    "    r = np.sum(zx*zy)/(len(x)-1)\n",
    "    return r**2\n",
    "\n",
    "y_prediction = np.reshape(y_pred, (y_pred.shape[0], -1))\n",
    "actual    = (np.array(y_test) == 2)\n",
    "predicted = (np.array(y_prediction) < 0.5)\n",
    "print(accuracy(actual, predicted))\n",
    "\n",
    "\n",
    "\n",
    "print(get_r2(y_test, y_prediction))\n",
    "\n",
    "y_prediction_svr = np.reshape(y_pred_svr, (y_pred_svr.shape[0], -1))\n",
    "actual    = (np.array(y_test) == 2)\n",
    "predicted_svr = (np.array(y_prediction_svr) < 0.5)\n",
    "print(accuracy(actual, predicted_svr))\n",
    "\n",
    "\n",
    "\n",
    "print(get_r2(y_test, y_prediction_svr))"
   ]
  },
  {
   "cell_type": "code",
   "execution_count": null,
   "metadata": {},
   "outputs": [],
   "source": []
  },
  {
   "cell_type": "code",
   "execution_count": 265,
   "metadata": {},
   "outputs": [
    {
     "data": {
      "text/plain": [
       "'\\n---x-x-x-x-x-x-x-x-x-x-x-x-x-x-x-x-x-x-x-x-x-x-x-x-x-x-x-x-x-x-x-x-x-x-x-x-x-x-x---\\nZAJĘCIA 25.03\\nPRZYKŁAD OPARTY NA: load_iris()\\n---x-x-x-x-x-x-x-x-x-x-x-x-x-x-x-x-x-x-x-x-x-x-x-x-x-x-x-x-x-x-x-x-x-x-x-x-x-x-x---\\n'"
      ]
     },
     "execution_count": 265,
     "metadata": {},
     "output_type": "execute_result"
    }
   ],
   "source": [
    "\"\"\"\n",
    "---x-x-x-x-x-x-x-x-x-x-x-x-x-x-x-x-x-x-x-x-x-x-x-x-x-x-x-x-x-x-x-x-x-x-x-x-x-x-x---\n",
    "ZAJĘCIA 25.03\n",
    "PRZYKŁAD OPARTY NA: load_iris()\n",
    "---x-x-x-x-x-x-x-x-x-x-x-x-x-x-x-x-x-x-x-x-x-x-x-x-x-x-x-x-x-x-x-x-x-x-x-x-x-x-x---\n",
    "\"\"\""
   ]
  },
  {
   "cell_type": "code",
   "execution_count": 266,
   "metadata": {},
   "outputs": [
    {
     "data": {
      "text/html": [
       "<div>\n",
       "<style scoped>\n",
       "    .dataframe tbody tr th:only-of-type {\n",
       "        vertical-align: middle;\n",
       "    }\n",
       "\n",
       "    .dataframe tbody tr th {\n",
       "        vertical-align: top;\n",
       "    }\n",
       "\n",
       "    .dataframe thead th {\n",
       "        text-align: right;\n",
       "    }\n",
       "</style>\n",
       "<table border=\"1\" class=\"dataframe\">\n",
       "  <thead>\n",
       "    <tr style=\"text-align: right;\">\n",
       "      <th></th>\n",
       "      <th>sepal length (cm)</th>\n",
       "      <th>sepal width (cm)</th>\n",
       "      <th>petal length (cm)</th>\n",
       "      <th>petal width (cm)</th>\n",
       "    </tr>\n",
       "  </thead>\n",
       "  <tbody>\n",
       "    <tr>\n",
       "      <td>count</td>\n",
       "      <td>150.000000</td>\n",
       "      <td>150.000000</td>\n",
       "      <td>150.000000</td>\n",
       "      <td>150.000000</td>\n",
       "    </tr>\n",
       "    <tr>\n",
       "      <td>mean</td>\n",
       "      <td>5.843333</td>\n",
       "      <td>3.057333</td>\n",
       "      <td>3.758000</td>\n",
       "      <td>1.199333</td>\n",
       "    </tr>\n",
       "    <tr>\n",
       "      <td>std</td>\n",
       "      <td>0.828066</td>\n",
       "      <td>0.435866</td>\n",
       "      <td>1.765298</td>\n",
       "      <td>0.762238</td>\n",
       "    </tr>\n",
       "    <tr>\n",
       "      <td>min</td>\n",
       "      <td>4.300000</td>\n",
       "      <td>2.000000</td>\n",
       "      <td>1.000000</td>\n",
       "      <td>0.100000</td>\n",
       "    </tr>\n",
       "    <tr>\n",
       "      <td>25%</td>\n",
       "      <td>5.100000</td>\n",
       "      <td>2.800000</td>\n",
       "      <td>1.600000</td>\n",
       "      <td>0.300000</td>\n",
       "    </tr>\n",
       "    <tr>\n",
       "      <td>50%</td>\n",
       "      <td>5.800000</td>\n",
       "      <td>3.000000</td>\n",
       "      <td>4.350000</td>\n",
       "      <td>1.300000</td>\n",
       "    </tr>\n",
       "    <tr>\n",
       "      <td>75%</td>\n",
       "      <td>6.400000</td>\n",
       "      <td>3.300000</td>\n",
       "      <td>5.100000</td>\n",
       "      <td>1.800000</td>\n",
       "    </tr>\n",
       "    <tr>\n",
       "      <td>max</td>\n",
       "      <td>7.900000</td>\n",
       "      <td>4.400000</td>\n",
       "      <td>6.900000</td>\n",
       "      <td>2.500000</td>\n",
       "    </tr>\n",
       "  </tbody>\n",
       "</table>\n",
       "</div>"
      ],
      "text/plain": [
       "       sepal length (cm)  sepal width (cm)  petal length (cm)  \\\n",
       "count         150.000000        150.000000         150.000000   \n",
       "mean            5.843333          3.057333           3.758000   \n",
       "std             0.828066          0.435866           1.765298   \n",
       "min             4.300000          2.000000           1.000000   \n",
       "25%             5.100000          2.800000           1.600000   \n",
       "50%             5.800000          3.000000           4.350000   \n",
       "75%             6.400000          3.300000           5.100000   \n",
       "max             7.900000          4.400000           6.900000   \n",
       "\n",
       "       petal width (cm)  \n",
       "count        150.000000  \n",
       "mean           1.199333  \n",
       "std            0.762238  \n",
       "min            0.100000  \n",
       "25%            0.300000  \n",
       "50%            1.300000  \n",
       "75%            1.800000  \n",
       "max            2.500000  "
      ]
     },
     "execution_count": 266,
     "metadata": {},
     "output_type": "execute_result"
    }
   ],
   "source": [
    "from sklearn.model_selection import train_test_split\n",
    "from sklearn.datasets import load_iris\n",
    "import numpy as np\n",
    "import pandas as pd\n",
    "\n",
    "data = load_iris()\n",
    "\n",
    "data = pd.DataFrame(data.data, columns=['sepal length (cm)', 'sepal width (cm)', 'petal length (cm)', 'petal width (cm)'])\n",
    "data.describe()"
   ]
  },
  {
   "cell_type": "code",
   "execution_count": 267,
   "metadata": {},
   "outputs": [
    {
     "data": {
      "text/html": [
       "<div>\n",
       "<style scoped>\n",
       "    .dataframe tbody tr th:only-of-type {\n",
       "        vertical-align: middle;\n",
       "    }\n",
       "\n",
       "    .dataframe tbody tr th {\n",
       "        vertical-align: top;\n",
       "    }\n",
       "\n",
       "    .dataframe thead th {\n",
       "        text-align: right;\n",
       "    }\n",
       "</style>\n",
       "<table border=\"1\" class=\"dataframe\">\n",
       "  <thead>\n",
       "    <tr style=\"text-align: right;\">\n",
       "      <th></th>\n",
       "      <th>sepal length (cm)</th>\n",
       "      <th>sepal width (cm)</th>\n",
       "      <th>petal length (cm)</th>\n",
       "      <th>petal width (cm)</th>\n",
       "      <th>target</th>\n",
       "    </tr>\n",
       "  </thead>\n",
       "  <tbody>\n",
       "    <tr>\n",
       "      <td>0</td>\n",
       "      <td>5.1</td>\n",
       "      <td>3.5</td>\n",
       "      <td>1.4</td>\n",
       "      <td>0.2</td>\n",
       "      <td>0</td>\n",
       "    </tr>\n",
       "    <tr>\n",
       "      <td>1</td>\n",
       "      <td>4.9</td>\n",
       "      <td>3.0</td>\n",
       "      <td>1.4</td>\n",
       "      <td>0.2</td>\n",
       "      <td>0</td>\n",
       "    </tr>\n",
       "    <tr>\n",
       "      <td>2</td>\n",
       "      <td>4.7</td>\n",
       "      <td>3.2</td>\n",
       "      <td>1.3</td>\n",
       "      <td>0.2</td>\n",
       "      <td>0</td>\n",
       "    </tr>\n",
       "    <tr>\n",
       "      <td>3</td>\n",
       "      <td>4.6</td>\n",
       "      <td>3.1</td>\n",
       "      <td>1.5</td>\n",
       "      <td>0.2</td>\n",
       "      <td>0</td>\n",
       "    </tr>\n",
       "    <tr>\n",
       "      <td>4</td>\n",
       "      <td>5.0</td>\n",
       "      <td>3.6</td>\n",
       "      <td>1.4</td>\n",
       "      <td>0.2</td>\n",
       "      <td>0</td>\n",
       "    </tr>\n",
       "    <tr>\n",
       "      <td>...</td>\n",
       "      <td>...</td>\n",
       "      <td>...</td>\n",
       "      <td>...</td>\n",
       "      <td>...</td>\n",
       "      <td>...</td>\n",
       "    </tr>\n",
       "    <tr>\n",
       "      <td>145</td>\n",
       "      <td>6.7</td>\n",
       "      <td>3.0</td>\n",
       "      <td>5.2</td>\n",
       "      <td>2.3</td>\n",
       "      <td>2</td>\n",
       "    </tr>\n",
       "    <tr>\n",
       "      <td>146</td>\n",
       "      <td>6.3</td>\n",
       "      <td>2.5</td>\n",
       "      <td>5.0</td>\n",
       "      <td>1.9</td>\n",
       "      <td>2</td>\n",
       "    </tr>\n",
       "    <tr>\n",
       "      <td>147</td>\n",
       "      <td>6.5</td>\n",
       "      <td>3.0</td>\n",
       "      <td>5.2</td>\n",
       "      <td>2.0</td>\n",
       "      <td>2</td>\n",
       "    </tr>\n",
       "    <tr>\n",
       "      <td>148</td>\n",
       "      <td>6.2</td>\n",
       "      <td>3.4</td>\n",
       "      <td>5.4</td>\n",
       "      <td>2.3</td>\n",
       "      <td>2</td>\n",
       "    </tr>\n",
       "    <tr>\n",
       "      <td>149</td>\n",
       "      <td>5.9</td>\n",
       "      <td>3.0</td>\n",
       "      <td>5.1</td>\n",
       "      <td>1.8</td>\n",
       "      <td>2</td>\n",
       "    </tr>\n",
       "  </tbody>\n",
       "</table>\n",
       "<p>150 rows × 5 columns</p>\n",
       "</div>"
      ],
      "text/plain": [
       "     sepal length (cm)  sepal width (cm)  petal length (cm)  petal width (cm)  \\\n",
       "0                  5.1               3.5                1.4               0.2   \n",
       "1                  4.9               3.0                1.4               0.2   \n",
       "2                  4.7               3.2                1.3               0.2   \n",
       "3                  4.6               3.1                1.5               0.2   \n",
       "4                  5.0               3.6                1.4               0.2   \n",
       "..                 ...               ...                ...               ...   \n",
       "145                6.7               3.0                5.2               2.3   \n",
       "146                6.3               2.5                5.0               1.9   \n",
       "147                6.5               3.0                5.2               2.0   \n",
       "148                6.2               3.4                5.4               2.3   \n",
       "149                5.9               3.0                5.1               1.8   \n",
       "\n",
       "     target  \n",
       "0         0  \n",
       "1         0  \n",
       "2         0  \n",
       "3         0  \n",
       "4         0  \n",
       "..      ...  \n",
       "145       2  \n",
       "146       2  \n",
       "147       2  \n",
       "148       2  \n",
       "149       2  \n",
       "\n",
       "[150 rows x 5 columns]"
      ]
     },
     "execution_count": 267,
     "metadata": {},
     "output_type": "execute_result"
    }
   ],
   "source": [
    "target = load_iris().target\n",
    "data['target'] = target\n",
    "\n",
    "data"
   ]
  },
  {
   "cell_type": "code",
   "execution_count": 268,
   "metadata": {},
   "outputs": [],
   "source": [
    "X = data.values[:,:-1]\n",
    "y = data['target']\n",
    "\n",
    "X_train, X_test, y_train, y_test = train_test_split(X,y, test_size=0.2, random_state=42, shuffle=True)"
   ]
  },
  {
   "cell_type": "code",
   "execution_count": 269,
   "metadata": {},
   "outputs": [
    {
     "data": {
      "text/plain": [
       "(120, 4)"
      ]
     },
     "execution_count": 269,
     "metadata": {},
     "output_type": "execute_result"
    }
   ],
   "source": [
    "X_train.shape"
   ]
  },
  {
   "cell_type": "code",
   "execution_count": 270,
   "metadata": {},
   "outputs": [
    {
     "data": {
      "text/plain": [
       "(30, 4)"
      ]
     },
     "execution_count": 270,
     "metadata": {},
     "output_type": "execute_result"
    }
   ],
   "source": [
    "X_test.shape"
   ]
  },
  {
   "cell_type": "code",
   "execution_count": 271,
   "metadata": {},
   "outputs": [
    {
     "data": {
      "text/plain": [
       "(120,)"
      ]
     },
     "execution_count": 271,
     "metadata": {},
     "output_type": "execute_result"
    }
   ],
   "source": [
    "y_train.shape"
   ]
  },
  {
   "cell_type": "code",
   "execution_count": 272,
   "metadata": {},
   "outputs": [
    {
     "data": {
      "text/plain": [
       "(30,)"
      ]
     },
     "execution_count": 272,
     "metadata": {},
     "output_type": "execute_result"
    }
   ],
   "source": [
    "y_test.shape"
   ]
  },
  {
   "cell_type": "code",
   "execution_count": 273,
   "metadata": {},
   "outputs": [
    {
     "data": {
      "text/plain": [
       "SVC(C=0.05)"
      ]
     },
     "execution_count": 273,
     "metadata": {},
     "output_type": "execute_result"
    }
   ],
   "source": [
    "from sklearn import svm\n",
    "\n",
    "clf = svm.SVC(C=0.05)\n",
    "clf.fit(X_train, y_train)"
   ]
  },
  {
   "cell_type": "code",
   "execution_count": 274,
   "metadata": {},
   "outputs": [
    {
     "data": {
      "text/plain": [
       "0.7"
      ]
     },
     "execution_count": 274,
     "metadata": {},
     "output_type": "execute_result"
    }
   ],
   "source": [
    "clf.score(X_test, y_test)"
   ]
  },
  {
   "cell_type": "code",
   "execution_count": 275,
   "metadata": {},
   "outputs": [
    {
     "data": {
      "text/plain": [
       "array([1, 0, 2, 1, 1, 0, 1, 1, 1, 1, 1, 0, 0, 0, 0, 1, 1, 1, 1, 1, 0, 1,\n",
       "       0, 1, 2, 1, 1, 1, 0, 0])"
      ]
     },
     "execution_count": 275,
     "metadata": {},
     "output_type": "execute_result"
    }
   ],
   "source": [
    "clf.predict(X_test)"
   ]
  }
 ],
 "metadata": {
  "kernelspec": {
   "display_name": "Python 3",
   "language": "python",
   "name": "python3"
  },
  "language_info": {
   "codemirror_mode": {
    "name": "ipython",
    "version": 3
   },
   "file_extension": ".py",
   "mimetype": "text/x-python",
   "name": "python",
   "nbconvert_exporter": "python",
   "pygments_lexer": "ipython3",
   "version": "3.7.4"
  }
 },
 "nbformat": 4,
 "nbformat_minor": 4
}
